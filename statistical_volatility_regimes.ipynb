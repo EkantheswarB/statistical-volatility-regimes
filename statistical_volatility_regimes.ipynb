{
  "nbformat": 4,
  "nbformat_minor": 0,
  "metadata": {
    "colab": {
      "provenance": []
    },
    "kernelspec": {
      "name": "python3",
      "display_name": "Python 3"
    },
    "language_info": {
      "name": "python"
    }
  },
  "cells": [
    {
      "cell_type": "code",
      "execution_count": 1,
      "metadata": {
        "colab": {
          "base_uri": "https://localhost:8080/"
        },
        "id": "k4Av3jrpn1h7",
        "outputId": "f07aa203-12cb-4e3a-f65b-6e3c697fdadf"
      },
      "outputs": [
        {
          "output_type": "stream",
          "name": "stdout",
          "text": [
            "Cloning into 'statistical-volatility-regimes'...\n",
            "remote: Enumerating objects: 37, done.\u001b[K\n",
            "remote: Counting objects: 100% (37/37), done.\u001b[K\n",
            "remote: Compressing objects: 100% (33/33), done.\u001b[K\n",
            "remote: Total 37 (delta 11), reused 0 (delta 0), pack-reused 0 (from 0)\u001b[K\n",
            "Receiving objects: 100% (37/37), 15.95 KiB | 2.28 MiB/s, done.\n",
            "Resolving deltas: 100% (11/11), done.\n"
          ]
        }
      ],
      "source": [
        "!git clone https://github.com/EkantheswarB/statistical-volatility-regimes.git"
      ]
    },
    {
      "cell_type": "code",
      "source": [
        "%cd statistical-volatility-regimes/"
      ],
      "metadata": {
        "colab": {
          "base_uri": "https://localhost:8080/"
        },
        "id": "aN84MCAsn9tv",
        "outputId": "32fad04f-bfcb-4173-d8e0-14f4ce7493b6"
      },
      "execution_count": 3,
      "outputs": [
        {
          "output_type": "stream",
          "name": "stdout",
          "text": [
            "/content/statistical-volatility-regimes\n"
          ]
        }
      ]
    },
    {
      "cell_type": "code",
      "source": [
        "pip install -r requirements.txt"
      ],
      "metadata": {
        "colab": {
          "base_uri": "https://localhost:8080/"
        },
        "id": "Z9qpV6HwoAy4",
        "outputId": "650055ee-0ba7-4085-8fff-e2a18e831364"
      },
      "execution_count": 4,
      "outputs": [
        {
          "output_type": "stream",
          "name": "stdout",
          "text": [
            "Requirement already satisfied: pandas in /usr/local/lib/python3.12/dist-packages (from -r requirements.txt (line 1)) (2.2.2)\n",
            "Requirement already satisfied: numpy in /usr/local/lib/python3.12/dist-packages (from -r requirements.txt (line 2)) (2.0.2)\n",
            "Requirement already satisfied: matplotlib in /usr/local/lib/python3.12/dist-packages (from -r requirements.txt (line 3)) (3.10.0)\n",
            "Requirement already satisfied: seaborn in /usr/local/lib/python3.12/dist-packages (from -r requirements.txt (line 4)) (0.13.2)\n",
            "Requirement already satisfied: yfinance in /usr/local/lib/python3.12/dist-packages (from -r requirements.txt (line 5)) (0.2.66)\n",
            "Collecting arch (from -r requirements.txt (line 6))\n",
            "  Downloading arch-8.0.0-cp312-cp312-manylinux2014_x86_64.manylinux_2_17_x86_64.manylinux_2_28_x86_64.whl.metadata (13 kB)\n",
            "Requirement already satisfied: statsmodels in /usr/local/lib/python3.12/dist-packages (from -r requirements.txt (line 7)) (0.14.5)\n",
            "Collecting hmmlearn (from -r requirements.txt (line 8))\n",
            "  Downloading hmmlearn-0.3.3-cp312-cp312-manylinux_2_17_x86_64.manylinux2014_x86_64.whl.metadata (3.0 kB)\n",
            "Requirement already satisfied: scikit-learn in /usr/local/lib/python3.12/dist-packages (from -r requirements.txt (line 9)) (1.6.1)\n",
            "Requirement already satisfied: scipy in /usr/local/lib/python3.12/dist-packages (from -r requirements.txt (line 10)) (1.16.2)\n",
            "Collecting reportlab (from -r requirements.txt (line 11))\n",
            "  Downloading reportlab-4.4.4-py3-none-any.whl.metadata (1.7 kB)\n",
            "Requirement already satisfied: python-dateutil>=2.8.2 in /usr/local/lib/python3.12/dist-packages (from pandas->-r requirements.txt (line 1)) (2.9.0.post0)\n",
            "Requirement already satisfied: pytz>=2020.1 in /usr/local/lib/python3.12/dist-packages (from pandas->-r requirements.txt (line 1)) (2025.2)\n",
            "Requirement already satisfied: tzdata>=2022.7 in /usr/local/lib/python3.12/dist-packages (from pandas->-r requirements.txt (line 1)) (2025.2)\n",
            "Requirement already satisfied: contourpy>=1.0.1 in /usr/local/lib/python3.12/dist-packages (from matplotlib->-r requirements.txt (line 3)) (1.3.3)\n",
            "Requirement already satisfied: cycler>=0.10 in /usr/local/lib/python3.12/dist-packages (from matplotlib->-r requirements.txt (line 3)) (0.12.1)\n",
            "Requirement already satisfied: fonttools>=4.22.0 in /usr/local/lib/python3.12/dist-packages (from matplotlib->-r requirements.txt (line 3)) (4.60.1)\n",
            "Requirement already satisfied: kiwisolver>=1.3.1 in /usr/local/lib/python3.12/dist-packages (from matplotlib->-r requirements.txt (line 3)) (1.4.9)\n",
            "Requirement already satisfied: packaging>=20.0 in /usr/local/lib/python3.12/dist-packages (from matplotlib->-r requirements.txt (line 3)) (25.0)\n",
            "Requirement already satisfied: pillow>=8 in /usr/local/lib/python3.12/dist-packages (from matplotlib->-r requirements.txt (line 3)) (11.3.0)\n",
            "Requirement already satisfied: pyparsing>=2.3.1 in /usr/local/lib/python3.12/dist-packages (from matplotlib->-r requirements.txt (line 3)) (3.2.5)\n",
            "Requirement already satisfied: requests>=2.31 in /usr/local/lib/python3.12/dist-packages (from yfinance->-r requirements.txt (line 5)) (2.32.4)\n",
            "Requirement already satisfied: multitasking>=0.0.7 in /usr/local/lib/python3.12/dist-packages (from yfinance->-r requirements.txt (line 5)) (0.0.12)\n",
            "Requirement already satisfied: platformdirs>=2.0.0 in /usr/local/lib/python3.12/dist-packages (from yfinance->-r requirements.txt (line 5)) (4.5.0)\n",
            "Requirement already satisfied: frozendict>=2.3.4 in /usr/local/lib/python3.12/dist-packages (from yfinance->-r requirements.txt (line 5)) (2.4.6)\n",
            "Requirement already satisfied: peewee>=3.16.2 in /usr/local/lib/python3.12/dist-packages (from yfinance->-r requirements.txt (line 5)) (3.18.2)\n",
            "Requirement already satisfied: beautifulsoup4>=4.11.1 in /usr/local/lib/python3.12/dist-packages (from yfinance->-r requirements.txt (line 5)) (4.13.5)\n",
            "Requirement already satisfied: curl_cffi>=0.7 in /usr/local/lib/python3.12/dist-packages (from yfinance->-r requirements.txt (line 5)) (0.13.0)\n",
            "Requirement already satisfied: protobuf>=3.19.0 in /usr/local/lib/python3.12/dist-packages (from yfinance->-r requirements.txt (line 5)) (5.29.5)\n",
            "Requirement already satisfied: websockets>=13.0 in /usr/local/lib/python3.12/dist-packages (from yfinance->-r requirements.txt (line 5)) (15.0.1)\n",
            "Requirement already satisfied: patsy>=0.5.6 in /usr/local/lib/python3.12/dist-packages (from statsmodels->-r requirements.txt (line 7)) (1.0.2)\n",
            "Requirement already satisfied: joblib>=1.2.0 in /usr/local/lib/python3.12/dist-packages (from scikit-learn->-r requirements.txt (line 9)) (1.5.2)\n",
            "Requirement already satisfied: threadpoolctl>=3.1.0 in /usr/local/lib/python3.12/dist-packages (from scikit-learn->-r requirements.txt (line 9)) (3.6.0)\n",
            "Requirement already satisfied: charset-normalizer in /usr/local/lib/python3.12/dist-packages (from reportlab->-r requirements.txt (line 11)) (3.4.4)\n",
            "Requirement already satisfied: soupsieve>1.2 in /usr/local/lib/python3.12/dist-packages (from beautifulsoup4>=4.11.1->yfinance->-r requirements.txt (line 5)) (2.8)\n",
            "Requirement already satisfied: typing-extensions>=4.0.0 in /usr/local/lib/python3.12/dist-packages (from beautifulsoup4>=4.11.1->yfinance->-r requirements.txt (line 5)) (4.15.0)\n",
            "Requirement already satisfied: cffi>=1.12.0 in /usr/local/lib/python3.12/dist-packages (from curl_cffi>=0.7->yfinance->-r requirements.txt (line 5)) (2.0.0)\n",
            "Requirement already satisfied: certifi>=2024.2.2 in /usr/local/lib/python3.12/dist-packages (from curl_cffi>=0.7->yfinance->-r requirements.txt (line 5)) (2025.10.5)\n",
            "Requirement already satisfied: six>=1.5 in /usr/local/lib/python3.12/dist-packages (from python-dateutil>=2.8.2->pandas->-r requirements.txt (line 1)) (1.17.0)\n",
            "Requirement already satisfied: idna<4,>=2.5 in /usr/local/lib/python3.12/dist-packages (from requests>=2.31->yfinance->-r requirements.txt (line 5)) (3.11)\n",
            "Requirement already satisfied: urllib3<3,>=1.21.1 in /usr/local/lib/python3.12/dist-packages (from requests>=2.31->yfinance->-r requirements.txt (line 5)) (2.5.0)\n",
            "Requirement already satisfied: pycparser in /usr/local/lib/python3.12/dist-packages (from cffi>=1.12.0->curl_cffi>=0.7->yfinance->-r requirements.txt (line 5)) (2.23)\n",
            "Downloading arch-8.0.0-cp312-cp312-manylinux2014_x86_64.manylinux_2_17_x86_64.manylinux_2_28_x86_64.whl (981 kB)\n",
            "\u001b[2K   \u001b[90m━━━━━━━━━━━━━━━━━━━━━━━━━━━━━━━━━━━━━━━━\u001b[0m \u001b[32m981.3/981.3 kB\u001b[0m \u001b[31m15.4 MB/s\u001b[0m eta \u001b[36m0:00:00\u001b[0m\n",
            "\u001b[?25hDownloading hmmlearn-0.3.3-cp312-cp312-manylinux_2_17_x86_64.manylinux2014_x86_64.whl (165 kB)\n",
            "\u001b[2K   \u001b[90m━━━━━━━━━━━━━━━━━━━━━━━━━━━━━━━━━━━━━━━━\u001b[0m \u001b[32m166.0/166.0 kB\u001b[0m \u001b[31m12.4 MB/s\u001b[0m eta \u001b[36m0:00:00\u001b[0m\n",
            "\u001b[?25hDownloading reportlab-4.4.4-py3-none-any.whl (2.0 MB)\n",
            "\u001b[2K   \u001b[90m━━━━━━━━━━━━━━━━━━━━━━━━━━━━━━━━━━━━━━━━\u001b[0m \u001b[32m2.0/2.0 MB\u001b[0m \u001b[31m64.1 MB/s\u001b[0m eta \u001b[36m0:00:00\u001b[0m\n",
            "\u001b[?25hInstalling collected packages: reportlab, hmmlearn, arch\n",
            "Successfully installed arch-8.0.0 hmmlearn-0.3.3 reportlab-4.4.4\n"
          ]
        }
      ]
    },
    {
      "cell_type": "code",
      "source": [
        "!python src/main.py"
      ],
      "metadata": {
        "colab": {
          "base_uri": "https://localhost:8080/"
        },
        "id": "Ia3FlcRloMOt",
        "outputId": "016f6859-d555-4f32-d369-2b4e60f423d6"
      },
      "execution_count": 10,
      "outputs": [
        {
          "output_type": "stream",
          "name": "stdout",
          "text": [
            "✅ Pipeline complete.\n",
            "Figures saved to: /content/statistical-volatility-regimes/results/figures\n",
            "Forecast metrics saved to: /content/statistical-volatility-regimes/results/forecasts.csv\n"
          ]
        }
      ]
    },
    {
      "cell_type": "code",
      "source": [
        "    !zip -r /content/your_folder.zip /content/statistical-volatility-regimes/"
      ],
      "metadata": {
        "colab": {
          "base_uri": "https://localhost:8080/"
        },
        "id": "_2M9sNH29AUm",
        "outputId": "02de14e9-9d57-4c01-8409-37758824dcba"
      },
      "execution_count": 11,
      "outputs": [
        {
          "output_type": "stream",
          "name": "stdout",
          "text": [
            "  adding: content/statistical-volatility-regimes/ (stored 0%)\n",
            "  adding: content/statistical-volatility-regimes/requirements.txt (deflated 21%)\n",
            "  adding: content/statistical-volatility-regimes/results/ (stored 0%)\n",
            "  adding: content/statistical-volatility-regimes/results/BTC_forecast_eval.csv (deflated 39%)\n",
            "  adding: content/statistical-volatility-regimes/results/figures/ (stored 0%)\n",
            "  adding: content/statistical-volatility-regimes/results/figures/BTC_EGARCH_qqplot.png (deflated 11%)\n",
            "  adding: content/statistical-volatility-regimes/results/figures/SPY_GARCH11_qqplot.png (deflated 8%)\n",
            "  adding: content/statistical-volatility-regimes/results/figures/SPY_EGARCH_qqplot.png (deflated 8%)\n",
            "  adding: content/statistical-volatility-regimes/results/figures/SPY_regime_probs.png (deflated 3%)\n",
            "  adding: content/statistical-volatility-regimes/results/figures/BTC_GARCH11_qqplot.png (deflated 11%)\n",
            "  adding: content/statistical-volatility-regimes/results/figures/BTC_forecast_rmse.png (deflated 19%)\n",
            "  adding: content/statistical-volatility-regimes/results/figures/BTC_transition_matrix.png (deflated 14%)\n",
            "  adding: content/statistical-volatility-regimes/results/figures/BTC_regime_probs.png (deflated 17%)\n",
            "  adding: content/statistical-volatility-regimes/results/figures/SPY_GJRGARCH_qqplot.png (deflated 8%)\n",
            "  adding: content/statistical-volatility-regimes/results/figures/BTC_regime_scatter.png (deflated 5%)\n",
            "  adding: content/statistical-volatility-regimes/results/figures/BTC_GJRGARCH_volatility.png (deflated 6%)\n",
            "  adding: content/statistical-volatility-regimes/results/figures/SPY_transition_matrix.png (deflated 14%)\n",
            "  adding: content/statistical-volatility-regimes/results/figures/BTC_EGARCH_volatility.png (deflated 6%)\n",
            "  adding: content/statistical-volatility-regimes/results/figures/SPY_forecast_rmse.png (deflated 19%)\n",
            "  adding: content/statistical-volatility-regimes/results/figures/BTC_cond_vs_realized.png (deflated 3%)\n",
            "  adding: content/statistical-volatility-regimes/results/figures/BTC_GJRGARCH_qqplot.png (deflated 11%)\n",
            "  adding: content/statistical-volatility-regimes/results/figures/SPY_EGARCH_volatility.png (deflated 5%)\n",
            "  adding: content/statistical-volatility-regimes/results/figures/BTC_GARCH11_volatility.png (deflated 5%)\n",
            "  adding: content/statistical-volatility-regimes/results/figures/SPY_cond_vs_realized.png (deflated 4%)\n",
            "  adding: content/statistical-volatility-regimes/results/figures/SPY_GARCH11_volatility.png (deflated 5%)\n",
            "  adding: content/statistical-volatility-regimes/results/figures/SPY_regime_scatter.png (deflated 5%)\n",
            "  adding: content/statistical-volatility-regimes/results/figures/SPY_GJRGARCH_volatility.png (deflated 5%)\n",
            "  adding: content/statistical-volatility-regimes/results/forecasts.csv (deflated 53%)\n",
            "  adding: content/statistical-volatility-regimes/results/SPY_forecast_eval.csv (deflated 39%)\n",
            "  adding: content/statistical-volatility-regimes/data/ (stored 0%)\n",
            "  adding: content/statistical-volatility-regimes/data/spx.csv (deflated 62%)\n",
            "  adding: content/statistical-volatility-regimes/data/btc.csv (deflated 62%)\n",
            "  adding: content/statistical-volatility-regimes/data/aligned_returns.csv (deflated 59%)\n",
            "  adding: content/statistical-volatility-regimes/README.md (deflated 43%)\n",
            "  adding: content/statistical-volatility-regimes/src/ (stored 0%)\n",
            "  adding: content/statistical-volatility-regimes/src/garch_model.py (deflated 63%)\n",
            "  adding: content/statistical-volatility-regimes/src/main.py (deflated 61%)\n",
            "  adding: content/statistical-volatility-regimes/src/data_loader.py (deflated 58%)\n",
            "  adding: content/statistical-volatility-regimes/src/regime_switching.py (deflated 64%)\n",
            "  adding: content/statistical-volatility-regimes/src/__pycache__/ (stored 0%)\n",
            "  adding: content/statistical-volatility-regimes/src/__pycache__/visualization.cpython-312.pyc (deflated 44%)\n",
            "  adding: content/statistical-volatility-regimes/src/__pycache__/regime_switching.cpython-312.pyc (deflated 54%)\n",
            "  adding: content/statistical-volatility-regimes/src/__pycache__/diagnostics.cpython-312.pyc (deflated 47%)\n",
            "  adding: content/statistical-volatility-regimes/src/__pycache__/data_loader.cpython-312.pyc (deflated 45%)\n",
            "  adding: content/statistical-volatility-regimes/src/__pycache__/garch_model.cpython-312.pyc (deflated 48%)\n",
            "  adding: content/statistical-volatility-regimes/src/diagnostics.py (deflated 60%)\n",
            "  adding: content/statistical-volatility-regimes/src/visualization.py (deflated 53%)\n",
            "  adding: content/statistical-volatility-regimes/paper/ (stored 0%)\n",
            "  adding: content/statistical-volatility-regimes/paper/references.bib (deflated 55%)\n",
            "  adding: content/statistical-volatility-regimes/.git/ (stored 0%)\n",
            "  adding: content/statistical-volatility-regimes/.git/index (deflated 38%)\n",
            "  adding: content/statistical-volatility-regimes/.git/config (deflated 32%)\n",
            "  adding: content/statistical-volatility-regimes/.git/objects/ (stored 0%)\n",
            "  adding: content/statistical-volatility-regimes/.git/objects/pack/ (stored 0%)\n",
            "  adding: content/statistical-volatility-regimes/.git/objects/pack/pack-4b2e0da79e46c0b67d3213020aa1593cd0d2be8c.pack (deflated 1%)\n",
            "  adding: content/statistical-volatility-regimes/.git/objects/pack/pack-4b2e0da79e46c0b67d3213020aa1593cd0d2be8c.idx (deflated 42%)\n",
            "  adding: content/statistical-volatility-regimes/.git/objects/info/ (stored 0%)\n",
            "  adding: content/statistical-volatility-regimes/.git/logs/ (stored 0%)\n",
            "  adding: content/statistical-volatility-regimes/.git/logs/HEAD (deflated 27%)\n",
            "  adding: content/statistical-volatility-regimes/.git/logs/refs/ (stored 0%)\n",
            "  adding: content/statistical-volatility-regimes/.git/logs/refs/remotes/ (stored 0%)\n",
            "  adding: content/statistical-volatility-regimes/.git/logs/refs/remotes/origin/ (stored 0%)\n",
            "  adding: content/statistical-volatility-regimes/.git/logs/refs/remotes/origin/HEAD (deflated 27%)\n",
            "  adding: content/statistical-volatility-regimes/.git/logs/refs/heads/ (stored 0%)\n",
            "  adding: content/statistical-volatility-regimes/.git/logs/refs/heads/main (deflated 27%)\n",
            "  adding: content/statistical-volatility-regimes/.git/hooks/ (stored 0%)\n",
            "  adding: content/statistical-volatility-regimes/.git/hooks/commit-msg.sample (deflated 44%)\n",
            "  adding: content/statistical-volatility-regimes/.git/hooks/pre-merge-commit.sample (deflated 39%)\n",
            "  adding: content/statistical-volatility-regimes/.git/hooks/fsmonitor-watchman.sample (deflated 62%)\n",
            "  adding: content/statistical-volatility-regimes/.git/hooks/pre-receive.sample (deflated 40%)\n",
            "  adding: content/statistical-volatility-regimes/.git/hooks/pre-rebase.sample (deflated 59%)\n",
            "  adding: content/statistical-volatility-regimes/.git/hooks/update.sample (deflated 68%)\n",
            "  adding: content/statistical-volatility-regimes/.git/hooks/pre-commit.sample (deflated 45%)\n",
            "  adding: content/statistical-volatility-regimes/.git/hooks/pre-push.sample (deflated 49%)\n",
            "  adding: content/statistical-volatility-regimes/.git/hooks/pre-applypatch.sample (deflated 38%)\n",
            "  adding: content/statistical-volatility-regimes/.git/hooks/prepare-commit-msg.sample (deflated 50%)\n",
            "  adding: content/statistical-volatility-regimes/.git/hooks/applypatch-msg.sample (deflated 42%)\n",
            "  adding: content/statistical-volatility-regimes/.git/hooks/post-update.sample (deflated 27%)\n",
            "  adding: content/statistical-volatility-regimes/.git/hooks/push-to-checkout.sample (deflated 55%)\n",
            "  adding: content/statistical-volatility-regimes/.git/branches/ (stored 0%)\n",
            "  adding: content/statistical-volatility-regimes/.git/HEAD (stored 0%)\n",
            "  adding: content/statistical-volatility-regimes/.git/refs/ (stored 0%)\n",
            "  adding: content/statistical-volatility-regimes/.git/refs/remotes/ (stored 0%)\n",
            "  adding: content/statistical-volatility-regimes/.git/refs/remotes/origin/ (stored 0%)\n",
            "  adding: content/statistical-volatility-regimes/.git/refs/remotes/origin/HEAD (stored 0%)\n",
            "  adding: content/statistical-volatility-regimes/.git/refs/tags/ (stored 0%)\n",
            "  adding: content/statistical-volatility-regimes/.git/refs/heads/ (stored 0%)\n",
            "  adding: content/statistical-volatility-regimes/.git/refs/heads/main (stored 0%)\n",
            "  adding: content/statistical-volatility-regimes/.git/packed-refs (deflated 9%)\n",
            "  adding: content/statistical-volatility-regimes/.git/description (deflated 14%)\n",
            "  adding: content/statistical-volatility-regimes/.git/info/ (stored 0%)\n",
            "  adding: content/statistical-volatility-regimes/.git/info/exclude (deflated 28%)\n"
          ]
        }
      ]
    },
    {
      "cell_type": "code",
      "source": [],
      "metadata": {
        "id": "4jMImub69GrG"
      },
      "execution_count": null,
      "outputs": []
    }
  ]
}